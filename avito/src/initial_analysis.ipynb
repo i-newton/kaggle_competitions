{
 "cells": [
  {
   "cell_type": "code",
   "execution_count": 17,
   "metadata": {},
   "outputs": [
    {
     "data": {
      "text/plain": [
       "(1503424, 18)"
      ]
     },
     "execution_count": 17,
     "metadata": {},
     "output_type": "execute_result"
    }
   ],
   "source": []
  },
  {
   "cell_type": "code",
   "execution_count": null,
   "metadata": {},
   "outputs": [],
   "source": []
  },
  {
   "cell_type": "code",
   "execution_count": 1,
   "metadata": {},
   "outputs": [],
   "source": [
    "import pandas as pd\n",
    "import sklearn"
   ]
  },
  {
   "cell_type": "code",
   "execution_count": 2,
   "metadata": {},
   "outputs": [],
   "source": [
    "main_train_df = pd.read_csv(\"../data/train.csv\",index_col = \"item_id\", parse_dates = [\"activation_date\"])\n",
    "main_test_df = pd.read_csv(\"../data/test.csv\",index_col = \"item_id\", parse_dates = [\"activation_date\"])"
   ]
  },
  {
   "cell_type": "code",
   "execution_count": 4,
   "metadata": {},
   "outputs": [],
   "source": [
    "main_test_df[\"param_1\"].fillna(\"\", inplace=True)\n",
    "main_test_df[\"param_2\"].fillna(\"\", inplace=True)\n",
    "main_test_df[\"param_3\"].fillna(\"\", inplace=True)\n",
    "main_test_df[\"description\"].fillna(\"\", inplace=True)\n",
    "main_train_df[\"param_1\"].fillna(\"\", inplace=True)\n",
    "main_train_df[\"param_2\"].fillna(\"\", inplace=True)\n",
    "main_train_df[\"param_3\"].fillna(\"\", inplace=True)\n",
    "main_train_df[\"description\"].fillna(\"\", inplace=True)"
   ]
  },
  {
   "cell_type": "code",
   "execution_count": 5,
   "metadata": {},
   "outputs": [],
   "source": [
    "main_train_df[\"correct_prices\"] = main_train_df.groupby([\"category_name\", \"param_1\"])[\"price\"].apply(lambda x: x.fillna(x.mean()))\n",
    "main_test_df[\"correct_prices\"] = main_test_df.groupby([\"category_name\", \"param_1\"])[\"price\"].apply(lambda x: x.fillna(x.mean()))\n",
    "main_test_df.drop([\"price\"], axis=1)\n",
    "main_train_df.drop([\"price\"], axis=1);\n",
    "main_train_df[\"correct_prices\"].fillna(0, inplace=True)\n",
    "main_test_df[\"correct_prices\"].fillna(0, inplace=True)"
   ]
  },
  {
   "cell_type": "code",
   "execution_count": 6,
   "metadata": {},
   "outputs": [
    {
     "name": "stdout",
     "output_type": "stream",
     "text": [
      "\n",
      "Create Time Variables\n",
      "\n",
      "Create Time Variables\n"
     ]
    },
    {
     "data": {
      "text/html": [
       "<div>\n",
       "<style scoped>\n",
       "    .dataframe tbody tr th:only-of-type {\n",
       "        vertical-align: middle;\n",
       "    }\n",
       "\n",
       "    .dataframe tbody tr th {\n",
       "        vertical-align: top;\n",
       "    }\n",
       "\n",
       "    .dataframe thead th {\n",
       "        text-align: right;\n",
       "    }\n",
       "</style>\n",
       "<table border=\"1\" class=\"dataframe\">\n",
       "  <thead>\n",
       "    <tr style=\"text-align: right;\">\n",
       "      <th></th>\n",
       "      <th>user_id</th>\n",
       "      <th>region</th>\n",
       "      <th>city</th>\n",
       "      <th>parent_category_name</th>\n",
       "      <th>category_name</th>\n",
       "      <th>param_1</th>\n",
       "      <th>param_2</th>\n",
       "      <th>param_3</th>\n",
       "      <th>title</th>\n",
       "      <th>description</th>\n",
       "      <th>...</th>\n",
       "      <th>item_seq_number</th>\n",
       "      <th>activation_date</th>\n",
       "      <th>user_type</th>\n",
       "      <th>image</th>\n",
       "      <th>image_top_1</th>\n",
       "      <th>deal_probability</th>\n",
       "      <th>correct_prices</th>\n",
       "      <th>Weekday</th>\n",
       "      <th>Weekd of Year</th>\n",
       "      <th>Day of Month</th>\n",
       "    </tr>\n",
       "    <tr>\n",
       "      <th>item_id</th>\n",
       "      <th></th>\n",
       "      <th></th>\n",
       "      <th></th>\n",
       "      <th></th>\n",
       "      <th></th>\n",
       "      <th></th>\n",
       "      <th></th>\n",
       "      <th></th>\n",
       "      <th></th>\n",
       "      <th></th>\n",
       "      <th></th>\n",
       "      <th></th>\n",
       "      <th></th>\n",
       "      <th></th>\n",
       "      <th></th>\n",
       "      <th></th>\n",
       "      <th></th>\n",
       "      <th></th>\n",
       "      <th></th>\n",
       "      <th></th>\n",
       "      <th></th>\n",
       "    </tr>\n",
       "  </thead>\n",
       "  <tbody>\n",
       "    <tr>\n",
       "      <th>b912c3c6a6ad</th>\n",
       "      <td>e00f8ff2eaf9</td>\n",
       "      <td>Свердловская область</td>\n",
       "      <td>Екатеринбург</td>\n",
       "      <td>Личные вещи</td>\n",
       "      <td>Товары для детей и игрушки</td>\n",
       "      <td>Постельные принадлежности</td>\n",
       "      <td></td>\n",
       "      <td></td>\n",
       "      <td>Кокоби(кокон для сна)</td>\n",
       "      <td>Кокон для сна малыша,пользовались меньше месяц...</td>\n",
       "      <td>...</td>\n",
       "      <td>2</td>\n",
       "      <td>2017-03-28</td>\n",
       "      <td>Private</td>\n",
       "      <td>d10c7e016e03247a3bf2d13348fe959fe6f436c1caf64c...</td>\n",
       "      <td>1008.0</td>\n",
       "      <td>0.12789</td>\n",
       "      <td>400.0</td>\n",
       "      <td>1</td>\n",
       "      <td>13</td>\n",
       "      <td>28</td>\n",
       "    </tr>\n",
       "    <tr>\n",
       "      <th>2dac0150717d</th>\n",
       "      <td>39aeb48f0017</td>\n",
       "      <td>Самарская область</td>\n",
       "      <td>Самара</td>\n",
       "      <td>Для дома и дачи</td>\n",
       "      <td>Мебель и интерьер</td>\n",
       "      <td>Другое</td>\n",
       "      <td></td>\n",
       "      <td></td>\n",
       "      <td>Стойка для Одежды</td>\n",
       "      <td>Стойка для одежды, под вешалки. С бутика.</td>\n",
       "      <td>...</td>\n",
       "      <td>19</td>\n",
       "      <td>2017-03-26</td>\n",
       "      <td>Private</td>\n",
       "      <td>79c9392cc51a9c81c6eb91eceb8e552171db39d7142700...</td>\n",
       "      <td>692.0</td>\n",
       "      <td>0.00000</td>\n",
       "      <td>3000.0</td>\n",
       "      <td>6</td>\n",
       "      <td>12</td>\n",
       "      <td>26</td>\n",
       "    </tr>\n",
       "    <tr>\n",
       "      <th>ba83aefab5dc</th>\n",
       "      <td>91e2f88dd6e3</td>\n",
       "      <td>Ростовская область</td>\n",
       "      <td>Ростов-на-Дону</td>\n",
       "      <td>Бытовая электроника</td>\n",
       "      <td>Аудио и видео</td>\n",
       "      <td>Видео, DVD и Blu-ray плееры</td>\n",
       "      <td></td>\n",
       "      <td></td>\n",
       "      <td>Philips bluray</td>\n",
       "      <td>В хорошем состоянии, домашний кинотеатр с blu ...</td>\n",
       "      <td>...</td>\n",
       "      <td>9</td>\n",
       "      <td>2017-03-20</td>\n",
       "      <td>Private</td>\n",
       "      <td>b7f250ee3f39e1fedd77c141f273703f4a9be59db4b48a...</td>\n",
       "      <td>3032.0</td>\n",
       "      <td>0.43177</td>\n",
       "      <td>4000.0</td>\n",
       "      <td>0</td>\n",
       "      <td>12</td>\n",
       "      <td>20</td>\n",
       "    </tr>\n",
       "    <tr>\n",
       "      <th>02996f1dd2ea</th>\n",
       "      <td>bf5cccea572d</td>\n",
       "      <td>Татарстан</td>\n",
       "      <td>Набережные Челны</td>\n",
       "      <td>Личные вещи</td>\n",
       "      <td>Товары для детей и игрушки</td>\n",
       "      <td>Автомобильные кресла</td>\n",
       "      <td></td>\n",
       "      <td></td>\n",
       "      <td>Автокресло</td>\n",
       "      <td>Продам кресло от0-25кг</td>\n",
       "      <td>...</td>\n",
       "      <td>286</td>\n",
       "      <td>2017-03-25</td>\n",
       "      <td>Company</td>\n",
       "      <td>e6ef97e0725637ea84e3d203e82dadb43ed3cc0a1c8413...</td>\n",
       "      <td>796.0</td>\n",
       "      <td>0.80323</td>\n",
       "      <td>2200.0</td>\n",
       "      <td>5</td>\n",
       "      <td>12</td>\n",
       "      <td>25</td>\n",
       "    </tr>\n",
       "    <tr>\n",
       "      <th>7c90be56d2ab</th>\n",
       "      <td>ef50846afc0b</td>\n",
       "      <td>Волгоградская область</td>\n",
       "      <td>Волгоград</td>\n",
       "      <td>Транспорт</td>\n",
       "      <td>Автомобили</td>\n",
       "      <td>С пробегом</td>\n",
       "      <td>ВАЗ (LADA)</td>\n",
       "      <td>2110</td>\n",
       "      <td>ВАЗ 2110, 2003</td>\n",
       "      <td>Все вопросы по телефону.</td>\n",
       "      <td>...</td>\n",
       "      <td>3</td>\n",
       "      <td>2017-03-16</td>\n",
       "      <td>Private</td>\n",
       "      <td>54a687a3a0fc1d68aed99bdaaf551c5c70b761b16fd0a2...</td>\n",
       "      <td>2264.0</td>\n",
       "      <td>0.20797</td>\n",
       "      <td>40000.0</td>\n",
       "      <td>3</td>\n",
       "      <td>11</td>\n",
       "      <td>16</td>\n",
       "    </tr>\n",
       "  </tbody>\n",
       "</table>\n",
       "<p>5 rows × 21 columns</p>\n",
       "</div>"
      ],
      "text/plain": [
       "                   user_id                 region              city  \\\n",
       "item_id                                                               \n",
       "b912c3c6a6ad  e00f8ff2eaf9   Свердловская область      Екатеринбург   \n",
       "2dac0150717d  39aeb48f0017      Самарская область            Самара   \n",
       "ba83aefab5dc  91e2f88dd6e3     Ростовская область    Ростов-на-Дону   \n",
       "02996f1dd2ea  bf5cccea572d              Татарстан  Набережные Челны   \n",
       "7c90be56d2ab  ef50846afc0b  Волгоградская область         Волгоград   \n",
       "\n",
       "             parent_category_name               category_name  \\\n",
       "item_id                                                         \n",
       "b912c3c6a6ad          Личные вещи  Товары для детей и игрушки   \n",
       "2dac0150717d      Для дома и дачи           Мебель и интерьер   \n",
       "ba83aefab5dc  Бытовая электроника               Аудио и видео   \n",
       "02996f1dd2ea          Личные вещи  Товары для детей и игрушки   \n",
       "7c90be56d2ab            Транспорт                  Автомобили   \n",
       "\n",
       "                                  param_1     param_2 param_3  \\\n",
       "item_id                                                         \n",
       "b912c3c6a6ad    Постельные принадлежности                       \n",
       "2dac0150717d                       Другое                       \n",
       "ba83aefab5dc  Видео, DVD и Blu-ray плееры                       \n",
       "02996f1dd2ea         Автомобильные кресла                       \n",
       "7c90be56d2ab                   С пробегом  ВАЗ (LADA)    2110   \n",
       "\n",
       "                              title  \\\n",
       "item_id                               \n",
       "b912c3c6a6ad  Кокоби(кокон для сна)   \n",
       "2dac0150717d      Стойка для Одежды   \n",
       "ba83aefab5dc         Philips bluray   \n",
       "02996f1dd2ea             Автокресло   \n",
       "7c90be56d2ab         ВАЗ 2110, 2003   \n",
       "\n",
       "                                                    description      ...       \\\n",
       "item_id                                                              ...        \n",
       "b912c3c6a6ad  Кокон для сна малыша,пользовались меньше месяц...      ...        \n",
       "2dac0150717d          Стойка для одежды, под вешалки. С бутика.      ...        \n",
       "ba83aefab5dc  В хорошем состоянии, домашний кинотеатр с blu ...      ...        \n",
       "02996f1dd2ea                             Продам кресло от0-25кг      ...        \n",
       "7c90be56d2ab                           Все вопросы по телефону.      ...        \n",
       "\n",
       "              item_seq_number  activation_date user_type  \\\n",
       "item_id                                                    \n",
       "b912c3c6a6ad                2       2017-03-28   Private   \n",
       "2dac0150717d               19       2017-03-26   Private   \n",
       "ba83aefab5dc                9       2017-03-20   Private   \n",
       "02996f1dd2ea              286       2017-03-25   Company   \n",
       "7c90be56d2ab                3       2017-03-16   Private   \n",
       "\n",
       "                                                          image image_top_1  \\\n",
       "item_id                                                                       \n",
       "b912c3c6a6ad  d10c7e016e03247a3bf2d13348fe959fe6f436c1caf64c...      1008.0   \n",
       "2dac0150717d  79c9392cc51a9c81c6eb91eceb8e552171db39d7142700...       692.0   \n",
       "ba83aefab5dc  b7f250ee3f39e1fedd77c141f273703f4a9be59db4b48a...      3032.0   \n",
       "02996f1dd2ea  e6ef97e0725637ea84e3d203e82dadb43ed3cc0a1c8413...       796.0   \n",
       "7c90be56d2ab  54a687a3a0fc1d68aed99bdaaf551c5c70b761b16fd0a2...      2264.0   \n",
       "\n",
       "              deal_probability  correct_prices  Weekday  Weekd of Year  \\\n",
       "item_id                                                                  \n",
       "b912c3c6a6ad           0.12789           400.0        1             13   \n",
       "2dac0150717d           0.00000          3000.0        6             12   \n",
       "ba83aefab5dc           0.43177          4000.0        0             12   \n",
       "02996f1dd2ea           0.80323          2200.0        5             12   \n",
       "7c90be56d2ab           0.20797         40000.0        3             11   \n",
       "\n",
       "              Day of Month  \n",
       "item_id                     \n",
       "b912c3c6a6ad            28  \n",
       "2dac0150717d            26  \n",
       "ba83aefab5dc            20  \n",
       "02996f1dd2ea            25  \n",
       "7c90be56d2ab            16  \n",
       "\n",
       "[5 rows x 21 columns]"
      ]
     },
     "execution_count": 6,
     "metadata": {},
     "output_type": "execute_result"
    }
   ],
   "source": [
    "def create_time_vars(df):\n",
    "    print(\"\\nCreate Time Variables\")\n",
    "    df[\"Weekday\"] = df['activation_date'].dt.weekday\n",
    "    df[\"Weekd of Year\"] = df['activation_date'].dt.week\n",
    "    df[\"Day of Month\"] = df['activation_date'].dt.day\n",
    "create_time_vars(main_train_df)\n",
    "create_time_vars(main_test_df)\n",
    "main_train_df.head()"
   ]
  },
  {
   "cell_type": "code",
   "execution_count": 7,
   "metadata": {},
   "outputs": [],
   "source": [
    "main_train_df.drop([\"activation_date\"],axis=1,inplace=True)\n",
    "main_test_df.drop([\"activation_date\"],axis=1,inplace=True)"
   ]
  },
  {
   "cell_type": "markdown",
   "metadata": {},
   "source": [
    "# Prepare data"
   ]
  },
  {
   "cell_type": "code",
   "execution_count": 38,
   "metadata": {},
   "outputs": [],
   "source": [
    "main_train_df['norm_price'] = pd.Series(0,index=main_train_df.index)\n",
    "main_test_df['norm_price'] = pd.Series(0,index=main_test_df.index)"
   ]
  },
  {
   "cell_type": "code",
   "execution_count": 91,
   "metadata": {},
   "outputs": [
    {
     "data": {
      "text/html": [
       "<div>\n",
       "<style scoped>\n",
       "    .dataframe tbody tr th:only-of-type {\n",
       "        vertical-align: middle;\n",
       "    }\n",
       "\n",
       "    .dataframe tbody tr th {\n",
       "        vertical-align: top;\n",
       "    }\n",
       "\n",
       "    .dataframe thead th {\n",
       "        text-align: right;\n",
       "    }\n",
       "</style>\n",
       "<table border=\"1\" class=\"dataframe\">\n",
       "  <thead>\n",
       "    <tr style=\"text-align: right;\">\n",
       "      <th></th>\n",
       "      <th>user_id</th>\n",
       "      <th>region</th>\n",
       "      <th>city</th>\n",
       "      <th>parent_category_name</th>\n",
       "      <th>category_name</th>\n",
       "      <th>param_1</th>\n",
       "      <th>param_2</th>\n",
       "      <th>param_3</th>\n",
       "      <th>title</th>\n",
       "      <th>description</th>\n",
       "      <th>price</th>\n",
       "      <th>item_seq_number</th>\n",
       "      <th>user_type</th>\n",
       "      <th>image</th>\n",
       "      <th>image_top_1</th>\n",
       "      <th>correct_prices</th>\n",
       "      <th>Weekday</th>\n",
       "      <th>Weekd of Year</th>\n",
       "      <th>Day of Month</th>\n",
       "      <th>norm_price</th>\n",
       "    </tr>\n",
       "    <tr>\n",
       "      <th>item_id</th>\n",
       "      <th></th>\n",
       "      <th></th>\n",
       "      <th></th>\n",
       "      <th></th>\n",
       "      <th></th>\n",
       "      <th></th>\n",
       "      <th></th>\n",
       "      <th></th>\n",
       "      <th></th>\n",
       "      <th></th>\n",
       "      <th></th>\n",
       "      <th></th>\n",
       "      <th></th>\n",
       "      <th></th>\n",
       "      <th></th>\n",
       "      <th></th>\n",
       "      <th></th>\n",
       "      <th></th>\n",
       "      <th></th>\n",
       "      <th></th>\n",
       "    </tr>\n",
       "  </thead>\n",
       "  <tbody>\n",
       "    <tr>\n",
       "      <th>9f2200aed300</th>\n",
       "      <td>e40118cbf294</td>\n",
       "      <td>Кемеровская область</td>\n",
       "      <td>Кемерово</td>\n",
       "      <td>Бытовая электроника</td>\n",
       "      <td>Телефоны</td>\n",
       "      <td>Nokia</td>\n",
       "      <td></td>\n",
       "      <td></td>\n",
       "      <td>Nokia Asha</td>\n",
       "      <td>Продам телефон Nokia Asha, черный, две симки, ...</td>\n",
       "      <td>1200.0</td>\n",
       "      <td>39</td>\n",
       "      <td>Private</td>\n",
       "      <td>d8415e65ba910227706b14181e85df1b0b445790bbb640...</td>\n",
       "      <td>2939.0</td>\n",
       "      <td>1200.000000</td>\n",
       "      <td>1</td>\n",
       "      <td>16</td>\n",
       "      <td>18</td>\n",
       "      <td>-0.010913</td>\n",
       "    </tr>\n",
       "    <tr>\n",
       "      <th>70813f518de4</th>\n",
       "      <td>2f52c1c31ba7</td>\n",
       "      <td>Тульская область</td>\n",
       "      <td>Тула</td>\n",
       "      <td>Бытовая электроника</td>\n",
       "      <td>Ноутбуки</td>\n",
       "      <td></td>\n",
       "      <td></td>\n",
       "      <td></td>\n",
       "      <td>Игровой ноутбук Asus G56JK-CN128H</td>\n",
       "      <td>Состояние хорошее. Жесткий диск на 1 тр.</td>\n",
       "      <td>28000.0</td>\n",
       "      <td>168</td>\n",
       "      <td>Company</td>\n",
       "      <td>c0b8fd605dd0261194a1ebab4f0674915c242a397b1e68...</td>\n",
       "      <td>2951.0</td>\n",
       "      <td>28000.000000</td>\n",
       "      <td>2</td>\n",
       "      <td>15</td>\n",
       "      <td>12</td>\n",
       "      <td>1.130364</td>\n",
       "    </tr>\n",
       "    <tr>\n",
       "      <th>a22a2eeb5dd2</th>\n",
       "      <td>c52fc74a71c9</td>\n",
       "      <td>Алтайский край</td>\n",
       "      <td>Барнаул</td>\n",
       "      <td>Личные вещи</td>\n",
       "      <td>Одежда, обувь, аксессуары</td>\n",
       "      <td>Женская одежда</td>\n",
       "      <td>Платья и юбки</td>\n",
       "      <td>42–44 (S)</td>\n",
       "      <td>Новое платье Bizzarro</td>\n",
       "      <td>платье Bizzarro новое  c этикеткой, куплено по...</td>\n",
       "      <td>900.0</td>\n",
       "      <td>112</td>\n",
       "      <td>Private</td>\n",
       "      <td>26349b576628b7da187a8d161cb961a119769bda83e638...</td>\n",
       "      <td>572.0</td>\n",
       "      <td>900.000000</td>\n",
       "      <td>4</td>\n",
       "      <td>15</td>\n",
       "      <td>14</td>\n",
       "      <td>-0.006377</td>\n",
       "    </tr>\n",
       "    <tr>\n",
       "      <th>ed7fbb0733c1</th>\n",
       "      <td>862bdfebda1d</td>\n",
       "      <td>Ставропольский край</td>\n",
       "      <td>Невинномысск</td>\n",
       "      <td>Услуги</td>\n",
       "      <td>Предложение услуг</td>\n",
       "      <td>Оборудование, производство</td>\n",
       "      <td>Монтаж и обслуживание оборудования</td>\n",
       "      <td></td>\n",
       "      <td>Профтлактика и ремонт сплит систем</td>\n",
       "      <td>Выполню ремонт и обслуживание сплит систем нед...</td>\n",
       "      <td>NaN</td>\n",
       "      <td>1</td>\n",
       "      <td>Private</td>\n",
       "      <td>NaN</td>\n",
       "      <td>0.0</td>\n",
       "      <td>16668.594286</td>\n",
       "      <td>3</td>\n",
       "      <td>15</td>\n",
       "      <td>13</td>\n",
       "      <td>0.003264</td>\n",
       "    </tr>\n",
       "    <tr>\n",
       "      <th>d374d332992f</th>\n",
       "      <td>ee74bccca74f</td>\n",
       "      <td>Воронежская область</td>\n",
       "      <td>Воронеж</td>\n",
       "      <td>Для дома и дачи</td>\n",
       "      <td>Ремонт и строительство</td>\n",
       "      <td>Инструменты</td>\n",
       "      <td></td>\n",
       "      <td></td>\n",
       "      <td>Лобзик Интерскол Мп-100э арт.18577</td>\n",
       "      <td>Состояние: Хорошее/\\n/\\nКомплект: Кейс,пилка,ч...</td>\n",
       "      <td>1990.0</td>\n",
       "      <td>26463</td>\n",
       "      <td>Shop</td>\n",
       "      <td>9c1ecc23ab04d543903bfd6a880d949fc1691cd7190dbb...</td>\n",
       "      <td>1255.0</td>\n",
       "      <td>1990.000000</td>\n",
       "      <td>1</td>\n",
       "      <td>16</td>\n",
       "      <td>18</td>\n",
       "      <td>-0.025825</td>\n",
       "    </tr>\n",
       "  </tbody>\n",
       "</table>\n",
       "</div>"
      ],
      "text/plain": [
       "                   user_id               region          city  \\\n",
       "item_id                                                         \n",
       "9f2200aed300  e40118cbf294  Кемеровская область      Кемерово   \n",
       "70813f518de4  2f52c1c31ba7     Тульская область          Тула   \n",
       "a22a2eeb5dd2  c52fc74a71c9       Алтайский край       Барнаул   \n",
       "ed7fbb0733c1  862bdfebda1d  Ставропольский край  Невинномысск   \n",
       "d374d332992f  ee74bccca74f  Воронежская область       Воронеж   \n",
       "\n",
       "             parent_category_name              category_name  \\\n",
       "item_id                                                        \n",
       "9f2200aed300  Бытовая электроника                   Телефоны   \n",
       "70813f518de4  Бытовая электроника                   Ноутбуки   \n",
       "a22a2eeb5dd2          Личные вещи  Одежда, обувь, аксессуары   \n",
       "ed7fbb0733c1               Услуги          Предложение услуг   \n",
       "d374d332992f      Для дома и дачи     Ремонт и строительство   \n",
       "\n",
       "                                 param_1                             param_2  \\\n",
       "item_id                                                                        \n",
       "9f2200aed300                       Nokia                                       \n",
       "70813f518de4                                                                   \n",
       "a22a2eeb5dd2              Женская одежда                       Платья и юбки   \n",
       "ed7fbb0733c1  Оборудование, производство  Монтаж и обслуживание оборудования   \n",
       "d374d332992f                 Инструменты                                       \n",
       "\n",
       "                param_3                               title  \\\n",
       "item_id                                                       \n",
       "9f2200aed300                                     Nokia Asha   \n",
       "70813f518de4              Игровой ноутбук Asus G56JK-CN128H   \n",
       "a22a2eeb5dd2  42–44 (S)               Новое платье Bizzarro   \n",
       "ed7fbb0733c1             Профтлактика и ремонт сплит систем   \n",
       "d374d332992f             Лобзик Интерскол Мп-100э арт.18577   \n",
       "\n",
       "                                                    description    price  \\\n",
       "item_id                                                                    \n",
       "9f2200aed300  Продам телефон Nokia Asha, черный, две симки, ...   1200.0   \n",
       "70813f518de4           Состояние хорошее. Жесткий диск на 1 тр.  28000.0   \n",
       "a22a2eeb5dd2  платье Bizzarro новое  c этикеткой, куплено по...    900.0   \n",
       "ed7fbb0733c1  Выполню ремонт и обслуживание сплит систем нед...      NaN   \n",
       "d374d332992f  Состояние: Хорошее/\\n/\\nКомплект: Кейс,пилка,ч...   1990.0   \n",
       "\n",
       "              item_seq_number user_type  \\\n",
       "item_id                                   \n",
       "9f2200aed300               39   Private   \n",
       "70813f518de4              168   Company   \n",
       "a22a2eeb5dd2              112   Private   \n",
       "ed7fbb0733c1                1   Private   \n",
       "d374d332992f            26463      Shop   \n",
       "\n",
       "                                                          image  image_top_1  \\\n",
       "item_id                                                                        \n",
       "9f2200aed300  d8415e65ba910227706b14181e85df1b0b445790bbb640...       2939.0   \n",
       "70813f518de4  c0b8fd605dd0261194a1ebab4f0674915c242a397b1e68...       2951.0   \n",
       "a22a2eeb5dd2  26349b576628b7da187a8d161cb961a119769bda83e638...        572.0   \n",
       "ed7fbb0733c1                                                NaN          0.0   \n",
       "d374d332992f  9c1ecc23ab04d543903bfd6a880d949fc1691cd7190dbb...       1255.0   \n",
       "\n",
       "              correct_prices  Weekday  Weekd of Year  Day of Month  norm_price  \n",
       "item_id                                                                         \n",
       "9f2200aed300     1200.000000        1             16            18   -0.010913  \n",
       "70813f518de4    28000.000000        2             15            12    1.130364  \n",
       "a22a2eeb5dd2      900.000000        4             15            14   -0.006377  \n",
       "ed7fbb0733c1    16668.594286        3             15            13    0.003264  \n",
       "d374d332992f     1990.000000        1             16            18   -0.025825  "
      ]
     },
     "execution_count": 91,
     "metadata": {},
     "output_type": "execute_result"
    }
   ],
   "source": [
    "main_test_df.tail()"
   ]
  },
  {
   "cell_type": "code",
   "execution_count": 41,
   "metadata": {},
   "outputs": [],
   "source": [
    "from sklearn.preprocessing import StandardScaler\n",
    "categories = main_train_df[\"category_name\"].unique()\n",
    "for cat in categories:\n",
    "    scaler = StandardScaler()\n",
    "    norm_price = scaler.fit_transform(main_train_df[main_train_df[\"category_name\"]==cat][\"correct_prices\"].values.reshape(-1,1))\n",
    "    main_train_df.loc[main_train_df[\"category_name\"]==cat,\"norm_price\"] = norm_price\n",
    "    norm_price_test = scaler.transform(main_test_df[main_test_df[\"category_name\"]==cat][\"correct_prices\"].values.reshape(-1,1))\n",
    "    main_test_df.loc[main_test_df[\"category_name\"]==cat,\"norm_price\"] = norm_price_test"
   ]
  },
  {
   "cell_type": "code",
   "execution_count": 65,
   "metadata": {},
   "outputs": [],
   "source": [
    "priceNormalizer = StandardScaler()\n",
    "train_price_norm = priceNormalizer.fit_transform(main_train_df[\"correct_prices\"].values.reshape(-1,1))\n",
    "test_price_norm = priceNormalizer.transform(main_test_df[\"correct_prices\"].values.reshape(-1,1))"
   ]
  },
  {
   "cell_type": "code",
   "execution_count": 85,
   "metadata": {},
   "outputs": [],
   "source": [
    "main_train_df[\"norm_prices\"] = main_train_df.groupby('category_name')[\"correct_prices\"].transform(lambda x: (x - x.mean()) / x.std())"
   ]
  },
  {
   "cell_type": "code",
   "execution_count": 43,
   "metadata": {},
   "outputs": [],
   "source": [
    "train_has_image = main_train_df[\"image\"].notnull().astype('int')\n",
    "test_has_image = main_test_df[\"image\"].notnull().astype('int')"
   ]
  },
  {
   "cell_type": "code",
   "execution_count": 44,
   "metadata": {},
   "outputs": [],
   "source": [
    "from sklearn.preprocessing import LabelBinarizer\n",
    "usertLab = LabelBinarizer()\n",
    "train_usert_oh = usertLab.fit_transform(main_train_df[\"user_type\"])\n",
    "test_usert_oh = usertLab.transform(main_test_df[\"user_type\"])"
   ]
  },
  {
   "cell_type": "code",
   "execution_count": 45,
   "metadata": {},
   "outputs": [],
   "source": [
    "def get_train_test_oh(column, sparse=True):\n",
    "    labeler = LabelBinarizer(sparse_output=sparse)\n",
    "    train_lbl_oh = labeler.fit_transform(main_train_df[column])\n",
    "    test_lbl_oh = labeler.transform(main_test_df[column])\n",
    "    return train_lbl_oh, test_lbl_oh\n",
    "\n",
    "train_pr1_oh, test_pr1_oh = get_train_test_oh(\"param_1\")"
   ]
  },
  {
   "cell_type": "code",
   "execution_count": 46,
   "metadata": {},
   "outputs": [],
   "source": [
    "train_cat_oh, test_cat_oh = get_train_test_oh(\"category_name\")"
   ]
  },
  {
   "cell_type": "code",
   "execution_count": 47,
   "metadata": {},
   "outputs": [],
   "source": [
    "train_pcat_oh, test_pcat_oh = get_train_test_oh(\"parent_category_name\")"
   ]
  },
  {
   "cell_type": "code",
   "execution_count": 48,
   "metadata": {},
   "outputs": [],
   "source": [
    "train_city_oh, test_city_oh = get_train_test_oh(\"city\")"
   ]
  },
  {
   "cell_type": "code",
   "execution_count": 49,
   "metadata": {},
   "outputs": [],
   "source": [
    "train_region_oh, test_region_oh = get_train_test_oh(\"region\")"
   ]
  },
  {
   "cell_type": "code",
   "execution_count": 50,
   "metadata": {},
   "outputs": [],
   "source": [
    "train_wd_oh, test_wd_oh = get_train_test_oh(\"Weekday\")"
   ]
  },
  {
   "cell_type": "code",
   "execution_count": 51,
   "metadata": {},
   "outputs": [],
   "source": [
    "train_week_oh, test_week_oh = get_train_test_oh(\"Weekd of Year\")"
   ]
  },
  {
   "cell_type": "code",
   "execution_count": 52,
   "metadata": {},
   "outputs": [],
   "source": [
    "train_day_oh, test_day_oh = get_train_test_oh(\"Day of Month\")"
   ]
  },
  {
   "cell_type": "code",
   "execution_count": 74,
   "metadata": {},
   "outputs": [],
   "source": [
    "def free_in(v):\n",
    "    if \"бесплатно\" in v:\n",
    "        return 1\n",
    "    else: \n",
    "        return 0\n",
    "train_free_title = main_train_df[\"title\"].apply(free_in).values.reshape(-1,1)\n",
    "train_free_desc = main_train_df[\"description\"].apply(free_in).values.reshape(-1,1)\n",
    "test_free_title = main_test_df[\"title\"].apply(free_in).values.reshape(-1,1)\n",
    "test_free_desc = main_test_df[\"description\"].apply(free_in).values.reshape(-1,1)"
   ]
  },
  {
   "cell_type": "code",
   "execution_count": 84,
   "metadata": {},
   "outputs": [],
   "source": [
    "main_train_df[\"image_top_1\"].fillna(0, inplace=True)\n",
    "main_test_df[\"image_top_1\"].fillna(0, inplace=True)"
   ]
  },
  {
   "cell_type": "code",
   "execution_count": 85,
   "metadata": {},
   "outputs": [],
   "source": [
    "train_img_cls, test_img_cls = get_train_test_oh(\"image_top_1\")"
   ]
  },
  {
   "cell_type": "code",
   "execution_count": 92,
   "metadata": {},
   "outputs": [],
   "source": [
    "train_pr2_oh, test_pr2_oh = get_train_test_oh(\"param_2\")"
   ]
  },
  {
   "cell_type": "code",
   "execution_count": 114,
   "metadata": {},
   "outputs": [],
   "source": [
    "train_pr3_oh, test_pr3_oh = get_train_test_oh(\"param_3\")"
   ]
  },
  {
   "cell_type": "code",
   "execution_count": 115,
   "metadata": {},
   "outputs": [
    {
     "data": {
      "text/plain": [
       "<1503424x1220 sparse matrix of type '<class 'numpy.int64'>'\n",
       "\twith 1503424 stored elements in Compressed Sparse Row format>"
      ]
     },
     "execution_count": 115,
     "metadata": {},
     "output_type": "execute_result"
    }
   ],
   "source": [
    "train_pr3_oh"
   ]
  },
  {
   "cell_type": "raw",
   "metadata": {},
   "source": []
  },
  {
   "cell_type": "markdown",
   "metadata": {},
   "source": [
    "# Text Features"
   ]
  },
  {
   "cell_type": "code",
   "execution_count": 98,
   "metadata": {},
   "outputs": [],
   "source": [
    "train_titles = main_train_df[\"title\"]\n",
    "test_titles = main_test_df[\"title\"]\n",
    "train_desc = main_train_df[\"description\"]\n",
    "test_desc = main_test_df[\"description\"]"
   ]
  },
  {
   "cell_type": "code",
   "execution_count": 99,
   "metadata": {},
   "outputs": [],
   "source": [
    "from sklearn.feature_extraction.text import TfidfVectorizer\n",
    "train_vct_title = TfidfVectorizer()\n",
    "train_title_tfidf = train_vct_title.fit_transform(train_titles)\n",
    "test_title_tfidf = train_vct_title.transform(test_titles)"
   ]
  },
  {
   "cell_type": "code",
   "execution_count": 102,
   "metadata": {},
   "outputs": [],
   "source": [
    "train_vct_desc = TfidfVectorizer()\n",
    "train_desc_tfidf = train_vct_desc.fit_transform(train_desc)\n",
    "test_desc_tfidf = train_vct_desc.transform(test_desc)"
   ]
  },
  {
   "cell_type": "code",
   "execution_count": 105,
   "metadata": {},
   "outputs": [],
   "source": [
    "from scipy.sparse import hstack\n",
    "train_text_x = hstack([train_title_tfidf, train_desc_tfidf])\n",
    "test_text_x = hstack([test_title_tfidf, test_desc_tfidf])"
   ]
  },
  {
   "cell_type": "code",
   "execution_count": 109,
   "metadata": {},
   "outputs": [
    {
     "name": "stderr",
     "output_type": "stream",
     "text": [
      "[Parallel(n_jobs=-1)]: Done   3 out of   3 | elapsed:  1.7min finished\n"
     ]
    },
    {
     "data": {
      "text/plain": [
       "0.2357888283310521"
      ]
     },
     "execution_count": 109,
     "metadata": {},
     "output_type": "execute_result"
    }
   ],
   "source": [
    "from sklearn.linear_model import Ridge\n",
    "rcl_text = Ridge(random_state=17)\n",
    "scores = cross_val_score(rcl_text, train_text_x, y, n_jobs = -1, verbose=1,  scoring=\"neg_mean_squared_error\")\n",
    "np.mean(np.sqrt(-scores))"
   ]
  },
  {
   "cell_type": "markdown",
   "metadata": {},
   "source": [
    "# Combine data"
   ]
  },
  {
   "cell_type": "code",
   "execution_count": 116,
   "metadata": {},
   "outputs": [],
   "source": [
    "from scipy.sparse import hstack\n",
    "train_x = hstack([train_pr3_oh,train_pr2_oh,train_img_cls,train_free_title, train_free_desc,main_train_df[\"norm_price\"].values.reshape(-1,1),train_cat_oh, train_city_oh, train_has_image.values.reshape(-1,1), train_pcat_oh, train_pr1_oh, train_region_oh, train_usert_oh])"
   ]
  },
  {
   "cell_type": "code",
   "execution_count": 117,
   "metadata": {},
   "outputs": [],
   "source": [
    "test_x = hstack([test_pr3_oh,test_pr2_oh,test_img_cls,test_free_title, test_free_desc,main_test_df[\"norm_price\"].values.reshape(-1,1),test_cat_oh, test_city_oh, test_has_image.values.reshape(-1,1), test_pcat_oh, test_pr1_oh, test_region_oh, test_usert_oh])"
   ]
  },
  {
   "cell_type": "code",
   "execution_count": 59,
   "metadata": {},
   "outputs": [],
   "source": [
    "y = main_train_df[\"deal_probability\"]"
   ]
  },
  {
   "cell_type": "code",
   "execution_count": 118,
   "metadata": {},
   "outputs": [],
   "source": [
    "from sklearn.model_selection import train_test_split\n",
    "X_train, X_valid, y_train, y_valid = train_test_split(train_x, y, test_size=0.2, random_state=42)"
   ]
  },
  {
   "cell_type": "markdown",
   "metadata": {},
   "source": [
    "# Training"
   ]
  },
  {
   "cell_type": "code",
   "execution_count": 119,
   "metadata": {
    "scrolled": true
   },
   "outputs": [
    {
     "name": "stderr",
     "output_type": "stream",
     "text": [
      "[Parallel(n_jobs=-1)]: Done   3 out of   3 | elapsed:  4.9min finished\n"
     ]
    },
    {
     "data": {
      "text/plain": [
       "0.23326703963615714"
      ]
     },
     "execution_count": 119,
     "metadata": {},
     "output_type": "execute_result"
    }
   ],
   "source": [
    "from sklearn.model_selection import cross_val_score\n",
    "from sklearn.linear_model import Ridge\n",
    "from sklearn.model_selection import KFold\n",
    "import numpy as np\n",
    "rcl = Ridge(random_state=101)\n",
    "scores = cross_val_score(rcl, X_train, y_train, n_jobs = -1, verbose=1,  scoring=\"neg_mean_squared_error\")\n",
    "np.mean(np.sqrt(-scores))"
   ]
  },
  {
   "cell_type": "code",
   "execution_count": 97,
   "metadata": {},
   "outputs": [
    {
     "data": {
      "text/plain": [
       "0.23344321136902893"
      ]
     },
     "execution_count": 97,
     "metadata": {},
     "output_type": "execute_result"
    }
   ],
   "source": [
    "import numpy as np\n",
    "np.mean(np.sqrt(-scores))"
   ]
  },
  {
   "cell_type": "code",
   "execution_count": 128,
   "metadata": {},
   "outputs": [
    {
     "name": "stderr",
     "output_type": "stream",
     "text": [
      "[Parallel(n_jobs=-1)]: Done   3 out of   3 | elapsed:  7.0min finished\n"
     ]
    }
   ],
   "source": [
    "from sklearn.model_selection import cross_val_predict\n",
    "cat_scores = cross_val_predict(rcl, train_x, y, n_jobs = -1, verbose=1)"
   ]
  },
  {
   "cell_type": "code",
   "execution_count": 129,
   "metadata": {},
   "outputs": [
    {
     "name": "stderr",
     "output_type": "stream",
     "text": [
      "[Parallel(n_jobs=-1)]: Done   3 out of   3 | elapsed:  1.7min finished\n"
     ]
    }
   ],
   "source": [
    "text_scores = cross_val_predict(rcl, train_text_x, y, n_jobs = -1, verbose=1)"
   ]
  },
  {
   "cell_type": "code",
   "execution_count": null,
   "metadata": {},
   "outputs": [],
   "source": [
    "combined_scores = np.concatenate([cat_scores.reshape(-1,1),text_scores.reshape(-1,1)], axis=1)\n",
    "combined_scores.shape"
   ]
  },
  {
   "cell_type": "code",
   "execution_count": 149,
   "metadata": {},
   "outputs": [
    {
     "data": {
      "text/plain": [
       "XGBRegressor(base_score=0.5, booster='gbtree', colsample_bylevel=1,\n",
       "       colsample_bytree=1, gamma=0, learning_rate=0.1, max_delta_step=0,\n",
       "       max_depth=3, min_child_weight=1, missing=None, n_estimators=100,\n",
       "       n_jobs=1, nthread=None, objective='reg:linear', random_state=0,\n",
       "       reg_alpha=0, reg_lambda=1, scale_pos_weight=1, seed=None,\n",
       "       silent=True, subsample=1)"
      ]
     },
     "execution_count": 149,
     "metadata": {},
     "output_type": "execute_result"
    }
   ],
   "source": [
    "from xgboost import XGBRegressor\n",
    "xgrgr = XGBRegressor()\n",
    "xgrgr.fit(combined_scores, y)"
   ]
  },
  {
   "cell_type": "code",
   "execution_count": 22,
   "metadata": {},
   "outputs": [
    {
     "name": "stderr",
     "output_type": "stream",
     "text": [
      "[Parallel(n_jobs=-1)]: Done   3 out of   3 | elapsed:  8.1min finished\n"
     ]
    },
    {
     "name": "stdout",
     "output_type": "stream",
     "text": [
      "0.1:0.23755640199253805\n"
     ]
    },
    {
     "name": "stderr",
     "output_type": "stream",
     "text": [
      "[Parallel(n_jobs=-1)]: Done   3 out of   3 | elapsed:  7.3min finished\n"
     ]
    },
    {
     "name": "stdout",
     "output_type": "stream",
     "text": [
      "0.5:0.23755304447366857\n"
     ]
    },
    {
     "name": "stderr",
     "output_type": "stream",
     "text": [
      "[Parallel(n_jobs=-1)]: Done   3 out of   3 | elapsed:  6.7min finished\n"
     ]
    },
    {
     "name": "stdout",
     "output_type": "stream",
     "text": [
      "1.0:0.23755001693623043\n"
     ]
    },
    {
     "name": "stderr",
     "output_type": "stream",
     "text": [
      "[Parallel(n_jobs=-1)]: Done   3 out of   3 | elapsed:  5.7min finished\n"
     ]
    },
    {
     "name": "stdout",
     "output_type": "stream",
     "text": [
      "2.0:0.23754583905401985\n",
      "5.0:0.23754031539980877\n"
     ]
    },
    {
     "name": "stderr",
     "output_type": "stream",
     "text": [
      "[Parallel(n_jobs=-1)]: Done   3 out of   3 | elapsed:  5.6min finished\n"
     ]
    }
   ],
   "source": [
    "from sklearn.model_selection import cross_val_score\n",
    "from sklearn.linear_model import Ridge\n",
    "alphas = [0.1, 0.5,1.0, 2.0,5.0]\n",
    "for alpha in alphas:\n",
    "    rcl = Ridge(random_state=101, alpha=alpha)\n",
    "    scores = cross_val_score(rcl, train_x, y, n_jobs = -1, verbose=1,  scoring=\"neg_mean_squared_error\")\n",
    "    print(\"%s:%s\"% (alpha, np.mean(np.sqrt(-scores))))"
   ]
  },
  {
   "cell_type": "code",
   "execution_count": 19,
   "metadata": {},
   "outputs": [],
   "source": [
    "import numpy as np"
   ]
  },
  {
   "cell_type": "code",
   "execution_count": 64,
   "metadata": {},
   "outputs": [],
   "source": [
    "final_ridge = Ridge(random_state=101)\n",
    "final_ridge.fit(train_x, y)\n",
    "y_pred = final_ridge.predict(test_x)"
   ]
  },
  {
   "cell_type": "code",
   "execution_count": 111,
   "metadata": {},
   "outputs": [],
   "source": [
    "final_ridge_text = Ridge(random_state=17)\n",
    "final_ridge_text.fit(train_text_x, y)\n",
    "y_pred_text = final_ridge_text.predict(test_text_x)"
   ]
  },
  {
   "cell_type": "code",
   "execution_count": 67,
   "metadata": {},
   "outputs": [],
   "source": [
    "test_item_id = main_test_df.index"
   ]
  },
  {
   "cell_type": "code",
   "execution_count": 152,
   "metadata": {},
   "outputs": [],
   "source": [
    "y_test_final = np.concatenate([y_pred.reshape(-1,1),y_pred_text.reshape(-1,1)], axis=1)"
   ]
  },
  {
   "cell_type": "code",
   "execution_count": 153,
   "metadata": {},
   "outputs": [],
   "source": [
    "lgb_score = xgrgr.predict(y_test_final)"
   ]
  },
  {
   "cell_type": "code",
   "execution_count": 157,
   "metadata": {},
   "outputs": [],
   "source": [
    "sub_df = pd.DataFrame({\"item_id\":test_item_id})\n",
    "sub_df[\"deal_probability\"] = lgb_score.clip(0,1)\n",
    "sub_df.to_csv(\"/tmp/baseline_avito_xgb.csv\", index=False)"
   ]
  },
  {
   "cell_type": "code",
   "execution_count": 155,
   "metadata": {},
   "outputs": [
    {
     "data": {
      "text/plain": [
       "(508438,)"
      ]
     },
     "execution_count": 155,
     "metadata": {},
     "output_type": "execute_result"
    }
   ],
   "source": [
    "lgb_score.shape\n"
   ]
  },
  {
   "cell_type": "code",
   "execution_count": 156,
   "metadata": {},
   "outputs": [
    {
     "data": {
      "text/plain": [
       "(508438,)"
      ]
     },
     "execution_count": 156,
     "metadata": {},
     "output_type": "execute_result"
    }
   ],
   "source": [
    "y_pred.shape"
   ]
  },
  {
   "cell_type": "code",
   "execution_count": null,
   "metadata": {},
   "outputs": [],
   "source": []
  },
  {
   "cell_type": "code",
   "execution_count": null,
   "metadata": {},
   "outputs": [],
   "source": []
  }
 ],
 "metadata": {
  "kernelspec": {
   "display_name": "avito_demand",
   "language": "python",
   "name": "avito_demand"
  },
  "language_info": {
   "codemirror_mode": {
    "name": "ipython",
    "version": 3
   },
   "file_extension": ".py",
   "mimetype": "text/x-python",
   "name": "python",
   "nbconvert_exporter": "python",
   "pygments_lexer": "ipython3",
   "version": "3.5.2"
  }
 },
 "nbformat": 4,
 "nbformat_minor": 2
}
